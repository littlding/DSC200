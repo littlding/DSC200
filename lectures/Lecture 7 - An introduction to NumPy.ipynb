{
  "cells": [
    {
      "cell_type": "markdown",
      "metadata": {
        "id": "L35eR66lZT6u"
      },
      "source": [
        "# DSC200 Lecture 7\n",
        "\n",
        "## An introduction to NumPy (cont.)"
      ]
    },
    {
      "cell_type": "markdown",
      "metadata": {
        "id": "Z3NFVPSFZT6w"
      },
      "source": [
        "## Recap"
      ]
    },
    {
      "cell_type": "code",
      "execution_count": 27,
      "metadata": {
        "id": "sZUTZjLGZT6w"
      },
      "outputs": [],
      "source": [
        "import numpy as np"
      ]
    },
    {
      "cell_type": "code",
      "execution_count": 28,
      "metadata": {
        "id": "kEvFY09cZT6w",
        "outputId": "6f9637ae-5e6f-4d27-d708-27be2e2acc20",
        "colab": {
          "base_uri": "https://localhost:8080/"
        }
      },
      "outputs": [
        {
          "output_type": "execute_result",
          "data": {
            "text/plain": [
              "array([20, 30])"
            ]
          },
          "metadata": {},
          "execution_count": 28
        }
      ],
      "source": [
        "arr = np.array([10, 20, 30, 40])\n",
        "arr[1:-1]"
      ]
    },
    {
      "cell_type": "code",
      "execution_count": 29,
      "metadata": {
        "id": "IqjYn3vDZT6w",
        "outputId": "69c5d707-7d1e-4378-b68d-bbb2699fa2bc",
        "colab": {
          "base_uri": "https://localhost:8080/"
        }
      },
      "outputs": [
        {
          "output_type": "execute_result",
          "data": {
            "text/plain": [
              "array([5., 5., 5., 5., 5.])"
            ]
          },
          "metadata": {},
          "execution_count": 29
        }
      ],
      "source": [
        "np.ones(5) * 5."
      ]
    },
    {
      "cell_type": "markdown",
      "metadata": {
        "id": "jPNAGmEmZT6w"
      },
      "source": [
        "Arrays also have many useful statistical/mathematical methods:"
      ]
    },
    {
      "cell_type": "code",
      "execution_count": 30,
      "metadata": {
        "jupyter": {
          "outputs_hidden": true
        },
        "id": "hU8V8NErZT6w",
        "outputId": "6231b49f-789b-4ab9-ef91-a5ad7d940ed6",
        "colab": {
          "base_uri": "https://localhost:8080/"
        }
      },
      "outputs": [
        {
          "output_type": "stream",
          "name": "stdout",
          "text": [
            "Minimum and maximum             : 10 40\n",
            "Sum and product of all elements : 100 240000\n",
            "Mean and standard deviation     : 25.0 11.180339887498949\n"
          ]
        }
      ],
      "source": [
        "print('Minimum and maximum             :', arr.min(), arr.max())\n",
        "print('Sum and product of all elements :', arr.sum(), arr.prod())\n",
        "print('Mean and standard deviation     :', arr.mean(), arr.std())"
      ]
    },
    {
      "cell_type": "markdown",
      "metadata": {
        "id": "Qv3jGKGQZT6x"
      },
      "source": [
        "## Arrays with more than one dimension"
      ]
    },
    {
      "cell_type": "markdown",
      "metadata": {
        "id": "-JWxiNtYZT6x"
      },
      "source": [
        "A list of lists can be used to initialize a two dimensional array:"
      ]
    },
    {
      "cell_type": "code",
      "execution_count": 31,
      "metadata": {
        "jupyter": {
          "outputs_hidden": true
        },
        "id": "bnA6CZQxZT6x",
        "outputId": "43a2a5e3-e46f-4b72-ba19-3177c62ccf05",
        "colab": {
          "base_uri": "https://localhost:8080/"
        }
      },
      "outputs": [
        {
          "output_type": "stream",
          "name": "stdout",
          "text": [
            "[[1 2 3]\n",
            " [4 5 6]]\n",
            "(2, 3)\n"
          ]
        }
      ],
      "source": [
        "lst2 = [[1, 2, 3], [4, 5, 6]]\n",
        "arr2 = np.array([[1, 2, 3], [4, 5, 6]])\n",
        "print(arr2)\n",
        "print(arr2.shape)"
      ]
    },
    {
      "cell_type": "code",
      "execution_count": 32,
      "metadata": {
        "jupyter": {
          "outputs_hidden": true
        },
        "id": "jjfiktt2ZT6x",
        "outputId": "074d19a5-ddd0-4168-a4d1-c3166fc87fa9",
        "colab": {
          "base_uri": "https://localhost:8080/"
        }
      },
      "outputs": [
        {
          "output_type": "stream",
          "name": "stdout",
          "text": [
            "2\n",
            "2\n"
          ]
        }
      ],
      "source": [
        "print(lst2[0][1])\n",
        "print(arr2[0, 1])"
      ]
    },
    {
      "cell_type": "markdown",
      "metadata": {
        "id": "ufUrAkWRZT6x"
      },
      "source": [
        "Question: Why does the following example produce different results?"
      ]
    },
    {
      "cell_type": "code",
      "execution_count": 33,
      "metadata": {
        "jupyter": {
          "outputs_hidden": true
        },
        "scrolled": true,
        "id": "9Dlikk7SZT6x",
        "outputId": "7fb2ec83-470b-4af5-8cfa-0c961524c3ce",
        "colab": {
          "base_uri": "https://localhost:8080/"
        }
      },
      "outputs": [
        {
          "output_type": "stream",
          "name": "stdout",
          "text": [
            "[4, 5, 6]\n",
            "[2 5]\n"
          ]
        }
      ],
      "source": [
        "print(lst2[0:2][1])\n",
        "print(arr2[:, 1])"
      ]
    },
    {
      "cell_type": "markdown",
      "metadata": {
        "id": "MHp5p50VZT6x"
      },
      "source": [
        "### Multidimensional array creation"
      ]
    },
    {
      "cell_type": "markdown",
      "metadata": {
        "id": "DCEnTPveZT6x"
      },
      "source": [
        "The array creation functions listed previously can also be used to create arrays with more than one dimension."
      ]
    },
    {
      "cell_type": "markdown",
      "metadata": {
        "id": "GPbvUot-ZT6x"
      },
      "source": [
        "For example:"
      ]
    },
    {
      "cell_type": "code",
      "execution_count": 34,
      "metadata": {
        "jupyter": {
          "outputs_hidden": true
        },
        "id": "M8ItAESQZT6x",
        "outputId": "0b69d15d-9e1c-41e3-f132-bea0756d1457",
        "colab": {
          "base_uri": "https://localhost:8080/"
        }
      },
      "outputs": [
        {
          "output_type": "execute_result",
          "data": {
            "text/plain": [
              "array([[0., 0., 0.],\n",
              "       [0., 0., 0.]])"
            ]
          },
          "metadata": {},
          "execution_count": 34
        }
      ],
      "source": [
        "np.zeros((2, 3))"
      ]
    },
    {
      "cell_type": "code",
      "execution_count": 35,
      "metadata": {
        "jupyter": {
          "outputs_hidden": true
        },
        "id": "9cRzEO3CZT6y",
        "outputId": "cc1af6f0-8d7f-414c-85ef-bfee10668c38",
        "colab": {
          "base_uri": "https://localhost:8080/"
        }
      },
      "outputs": [
        {
          "output_type": "execute_result",
          "data": {
            "text/plain": [
              "array([[11.92938935,  7.06676968,  6.2187999 ,  9.40952037],\n",
              "       [ 6.9248658 ,  6.72218742, 10.71764905,  8.50533261]])"
            ]
          },
          "metadata": {},
          "execution_count": 35
        }
      ],
      "source": [
        "np.random.normal(10, 3, size=(2, 4))"
      ]
    },
    {
      "cell_type": "markdown",
      "metadata": {
        "id": "yfIi0jdgZT6y"
      },
      "source": [
        "In fact, the shape of an array can be changed at any time, as long as the total number of elements is unchanged."
      ]
    },
    {
      "cell_type": "markdown",
      "metadata": {
        "id": "11HK22vpZT6y"
      },
      "source": [
        "For example, if we want a 2x4 array with numbers increasing from 0, the easiest way to create it is:"
      ]
    },
    {
      "cell_type": "code",
      "execution_count": 36,
      "metadata": {
        "jupyter": {
          "outputs_hidden": true
        },
        "id": "DqbndJPZZT6y",
        "outputId": "f5451d06-0b44-4765-d8ea-ac15cce88214",
        "colab": {
          "base_uri": "https://localhost:8080/"
        }
      },
      "outputs": [
        {
          "output_type": "stream",
          "name": "stdout",
          "text": [
            "[[0 1 2 3]\n",
            " [4 5 6 7]]\n"
          ]
        }
      ],
      "source": [
        "arr = np.arange(8).reshape(-1, 4)\n",
        "print(arr)"
      ]
    },
    {
      "cell_type": "markdown",
      "metadata": {
        "id": "Zmq-IwXfZT6y"
      },
      "source": [
        "### Slices"
      ]
    },
    {
      "cell_type": "markdown",
      "metadata": {
        "id": "axnEnRRaZT6y"
      },
      "source": [
        "With multidimensional arrays you can also index using slices, and you can mix and match slices and single indices in the different dimensions:"
      ]
    },
    {
      "cell_type": "code",
      "execution_count": 37,
      "metadata": {
        "jupyter": {
          "outputs_hidden": true
        },
        "id": "JrvVueBUZT6y",
        "outputId": "994fb6a3-6038-4069-f23d-f482001a79a6",
        "colab": {
          "base_uri": "https://localhost:8080/"
        }
      },
      "outputs": [
        {
          "output_type": "stream",
          "name": "stdout",
          "text": [
            "[[ 2  4  6  8]\n",
            " [10 12 14 16]]\n"
          ]
        }
      ],
      "source": [
        "arr = np.arange(2, 18, 2).reshape(2, 4)\n",
        "print(arr)"
      ]
    },
    {
      "cell_type": "code",
      "execution_count": 38,
      "metadata": {
        "jupyter": {
          "outputs_hidden": true
        },
        "id": "VwuuV9HJZT6y",
        "outputId": "22704d65-467d-4b2d-d253-958f2700d7cb",
        "colab": {
          "base_uri": "https://localhost:8080/"
        }
      },
      "outputs": [
        {
          "output_type": "stream",
          "name": "stdout",
          "text": [
            "Second element from dimension 0, last 2 elements from dimension one:\n",
            "[14 16]\n"
          ]
        }
      ],
      "source": [
        "print('Second element from dimension 0, last 2 elements from dimension one:')\n",
        "print(arr[1, 2:])"
      ]
    },
    {
      "cell_type": "markdown",
      "metadata": {
        "id": "fkfwObodZT6y"
      },
      "source": [
        "If you only provide one index to slice a multidimensional array, then the slice will be expanded to ``\":\"`` for all of the remaining dimensions:"
      ]
    },
    {
      "cell_type": "code",
      "execution_count": 39,
      "metadata": {
        "jupyter": {
          "outputs_hidden": true
        },
        "id": "BnEjH00SZT6y",
        "outputId": "a1792e24-2365-4b90-e043-a9abddf40b83",
        "colab": {
          "base_uri": "https://localhost:8080/"
        }
      },
      "outputs": [
        {
          "output_type": "stream",
          "name": "stdout",
          "text": [
            "First row:   [2 4 6 8] is equivalent to [2 4 6 8]\n",
            "Second row:  [10 12 14 16] is equivalent to [10 12 14 16]\n"
          ]
        }
      ],
      "source": [
        "print('First row:  ', arr[0], 'is equivalent to', arr[0, :])\n",
        "print('Second row: ', arr[1], 'is equivalent to', arr[1, :])"
      ]
    },
    {
      "cell_type": "markdown",
      "metadata": {
        "id": "xxcx-9tzZT6y"
      },
      "source": [
        "This is also known as \"ellipsis\"."
      ]
    },
    {
      "cell_type": "markdown",
      "metadata": {
        "id": "839-eCPeZT6y"
      },
      "source": [
        "Ellipsis can be specified explicitly with ```\"...\"```. It will automatically expand to `\":\"` for each of the unspecified dimensions in the array, and can even be used at the beginning of the slice:"
      ]
    },
    {
      "cell_type": "code",
      "execution_count": 40,
      "metadata": {
        "jupyter": {
          "outputs_hidden": true
        },
        "scrolled": false,
        "id": "OLHVSdaeZT6y",
        "outputId": "fb9bbee4-52e0-4439-e801-187ca84009a2",
        "colab": {
          "base_uri": "https://localhost:8080/"
        }
      },
      "outputs": [
        {
          "output_type": "stream",
          "name": "stdout",
          "text": [
            "Orig shape:  (4, 6, 3)\n",
            "(4, 6, 3)\n",
            "(4, 6, 2)\n",
            "(2, 6, 2)\n",
            "(2, 6, 3)\n"
          ]
        }
      ],
      "source": [
        "arr1 = np.empty((4, 6, 3))\n",
        "print('Orig shape: ', arr1.shape)\n",
        "print(arr1[...].shape)\n",
        "print(arr1[..., 0:2].shape)\n",
        "print(arr1[2:4, ..., ::2].shape)\n",
        "print(arr1[2:4, :, ..., ::-1].shape)"
      ]
    },
    {
      "cell_type": "markdown",
      "metadata": {
        "jupyter": {
          "outputs_hidden": true
        },
        "id": "_T3DvUYRZT6y"
      },
      "source": [
        "What is the shape of this slice:"
      ]
    },
    {
      "cell_type": "code",
      "execution_count": 41,
      "metadata": {
        "id": "LL3id456ZT6z",
        "outputId": "845a3f37-dc87-4895-bfc3-5f50f6932a4d",
        "colab": {
          "base_uri": "https://localhost:8080/"
        }
      },
      "outputs": [
        {
          "output_type": "stream",
          "name": "stdout",
          "text": [
            "Orig shape:  (5, 6, 7, 8)\n",
            "(1, 6, 7, 4)\n"
          ]
        }
      ],
      "source": [
        "arr3 = np.empty((5, 6, 7, 8))\n",
        "print('Orig shape: ', arr3.shape)\n",
        "print(arr3[2:3, ..., :4].shape)"
      ]
    },
    {
      "cell_type": "markdown",
      "metadata": {
        "id": "xQeYpHsvZT6z"
      },
      "source": [
        "<table border=\"1\" class=\"docutils\">\n",
        "<colgroup>\n",
        "<col width=\"14%\" />\n",
        "<col width=\"86%\" />\n",
        "</colgroup>\n",
        "<thead valign=\"bottom\">\n",
        "<tr class=\"row-odd\"><th class=\"head\"></th>\n",
        "<th class=\"head\">Shape</th>\n",
        "</tr>\n",
        "</thead>\n",
        "<tbody valign=\"top\">\n",
        "<tr class=\"row-even\"><td><tt class=\"docutils literal\"><span class=\"pre\">A</span></tt></td>\n",
        "<td>(3, 6, 7, 4)</td>\n",
        "</tr>\n",
        "<tr class=\"row-odd\"><td><tt class=\"docutils literal\"><span class=\"pre\">B</span></tt></td>\n",
        "<td>(1, 6, 7, 4)</td>\n",
        "</tr>\n",
        "<tr class=\"row-even\"><td><tt class=\"docutils literal\"><span class=\"pre\">C</span></tt></td>\n",
        "<td>(6, 7, 5)</td>\n",
        "</tr>\n",
        "<tr class=\"row-odd\"><td><tt class=\"docutils literal\"><span class=\"pre\">D</span></tt></td>\n",
        "<td>(6, 7, 4)</td>\n",
        "</tr>\n",
        "</tbody>\n",
        "</table>"
      ]
    },
    {
      "cell_type": "markdown",
      "metadata": {
        "id": "r3lAxng3ZT6z"
      },
      "source": [
        "## Operating with arrays"
      ]
    },
    {
      "cell_type": "markdown",
      "metadata": {
        "id": "13MH_O_-ZT6z"
      },
      "source": [
        "Arrays support all regular arithmetic operators, and the NumPy library also contains a complete collection of basic mathematical functions that operate on arrays.  "
      ]
    },
    {
      "cell_type": "markdown",
      "metadata": {
        "id": "QXARS0q_ZT6z"
      },
      "source": [
        "It is important to remember that in general, all operations with arrays are applied *element-wise*, i.e., are applied to all the elements of the array at the same time.  For example:"
      ]
    },
    {
      "cell_type": "code",
      "execution_count": 42,
      "metadata": {
        "jupyter": {
          "outputs_hidden": true
        },
        "id": "AKPS8hqVZT6z",
        "outputId": "9ecc923e-80ea-4bd0-ee38-d91188f11b9e",
        "colab": {
          "base_uri": "https://localhost:8080/"
        }
      },
      "outputs": [
        {
          "output_type": "stream",
          "name": "stdout",
          "text": [
            "[0 1 2 3] + [10 11 12 13] = [10 12 14 16]\n"
          ]
        }
      ],
      "source": [
        "arr1 = np.arange(4)\n",
        "arr2 = np.arange(10, 14)\n",
        "print(arr1, '+', arr2, '=', arr1 + arr2)"
      ]
    },
    {
      "cell_type": "markdown",
      "metadata": {
        "id": "zabkTp64ZT60"
      },
      "source": [
        "Importantly, even the multiplication operator is by default applied element-wise: It is *not* the matrix multiplication from linear algebra:"
      ]
    },
    {
      "cell_type": "code",
      "execution_count": 43,
      "metadata": {
        "jupyter": {
          "outputs_hidden": true
        },
        "id": "p0zr27-kZT60",
        "outputId": "1a44cb77-2ca7-411f-eacb-b571d0b01d7d",
        "colab": {
          "base_uri": "https://localhost:8080/"
        }
      },
      "outputs": [
        {
          "output_type": "stream",
          "name": "stdout",
          "text": [
            "[0 1 2 3] * [10 11 12 13] = [ 0 11 24 39]\n"
          ]
        }
      ],
      "source": [
        "print(arr1, '*', arr2, '=', arr1 * arr2)"
      ]
    },
    {
      "cell_type": "markdown",
      "metadata": {
        "id": "heFMneg_ZT60"
      },
      "source": [
        "We may also multiply an array by a scalar:"
      ]
    },
    {
      "cell_type": "code",
      "execution_count": 44,
      "metadata": {
        "jupyter": {
          "outputs_hidden": true
        },
        "id": "4mf2ftYAZT60",
        "outputId": "93942d25-f215-4079-815c-b8bf71f3b85e",
        "colab": {
          "base_uri": "https://localhost:8080/"
        }
      },
      "outputs": [
        {
          "output_type": "execute_result",
          "data": {
            "text/plain": [
              "array([0. , 1.5, 3. , 4.5])"
            ]
          },
          "metadata": {},
          "execution_count": 44
        }
      ],
      "source": [
        "arr1 * 1.5"
      ]
    },
    {
      "cell_type": "markdown",
      "metadata": {
        "id": "TXwDuggXZT60"
      },
      "source": [
        "This is an example of **broadcasting**."
      ]
    },
    {
      "cell_type": "markdown",
      "metadata": {
        "id": "99DAGFiqZT60"
      },
      "source": [
        "### Broadcasting"
      ]
    },
    {
      "cell_type": "markdown",
      "metadata": {
        "id": "sc4VXP16ZT60"
      },
      "source": [
        "The fact that NumPy operates on an element-wise basis means that in principle arrays must always match one another's shape. However, NumPy will also helpfully \"*broadcast*\" dimensions when possible.  "
      ]
    },
    {
      "cell_type": "markdown",
      "metadata": {
        "id": "1deySTP6ZT60"
      },
      "source": [
        "Here is an example of broadcasting a scalar to a 1D array:"
      ]
    },
    {
      "cell_type": "code",
      "execution_count": 45,
      "metadata": {
        "jupyter": {
          "outputs_hidden": true
        },
        "id": "8ozqlp3kZT61",
        "outputId": "77faf542-b485-4873-864e-d2593234361b",
        "colab": {
          "base_uri": "https://localhost:8080/"
        }
      },
      "outputs": [
        {
          "output_type": "stream",
          "name": "stdout",
          "text": [
            "[0 1 2]\n",
            "[5 6 7]\n"
          ]
        }
      ],
      "source": [
        "print(np.arange(3))\n",
        "print(np.arange(3) + 5)"
      ]
    },
    {
      "cell_type": "markdown",
      "metadata": {
        "id": "rVHNTzYhZT61"
      },
      "source": [
        "We can also broadcast a 1D array to a 2D array, in this case adding a vector to all rows of a matrix:"
      ]
    },
    {
      "cell_type": "code",
      "execution_count": 46,
      "metadata": {
        "jupyter": {
          "outputs_hidden": true
        },
        "id": "toEWE8ErZT61",
        "outputId": "0db60cca-e460-4041-a21e-0e5ef7ed6ade",
        "colab": {
          "base_uri": "https://localhost:8080/"
        }
      },
      "outputs": [
        {
          "output_type": "execute_result",
          "data": {
            "text/plain": [
              "array([[1., 2., 3.],\n",
              "       [1., 2., 3.],\n",
              "       [1., 2., 3.]])"
            ]
          },
          "metadata": {},
          "execution_count": 46
        }
      ],
      "source": [
        "np.ones((3, 3)) + np.arange(3)"
      ]
    },
    {
      "cell_type": "markdown",
      "metadata": {
        "id": "ie287X9gZT61"
      },
      "source": [
        "We can also broadcast in two directions at a time:"
      ]
    },
    {
      "cell_type": "code",
      "execution_count": 47,
      "metadata": {
        "jupyter": {
          "outputs_hidden": true
        },
        "id": "uxiM3a0SZT61",
        "outputId": "2bf73679-9f81-4089-f236-1ed9798d9495",
        "colab": {
          "base_uri": "https://localhost:8080/"
        }
      },
      "outputs": [
        {
          "output_type": "stream",
          "name": "stdout",
          "text": [
            "[[0]\n",
            " [1]\n",
            " [2]] + [0 1 2] =\n",
            " [[0 1 2]\n",
            " [1 2 3]\n",
            " [2 3 4]]\n"
          ]
        }
      ],
      "source": [
        "a = np.arange(3).reshape((3, 1))\n",
        "b = np.arange(3)\n",
        "print(a, '+', b, '=\\n', a + b)"
      ]
    },
    {
      "cell_type": "markdown",
      "metadata": {
        "id": "s-xSKQzkZT61"
      },
      "source": [
        "### Rules of Broadcasting"
      ]
    },
    {
      "cell_type": "markdown",
      "metadata": {
        "id": "KMGitfOzZT61"
      },
      "source": [
        "Broadcasting follows these three rules:\n",
        "\n",
        "1. If the two arrays differ in their number of dimensions, the shape of the array with fewer dimensions is *padded* with ones on its leading (left) side.\n",
        "\n",
        "2. If the shape of the two arrays does not match in any dimension, either array with shape equal to 1 in a given dimension is *stretched* to match the other shape.\n",
        "\n",
        "3. If in any dimension the sizes disagree and neither has shape equal to 1, an error is raised."
      ]
    },
    {
      "cell_type": "markdown",
      "metadata": {
        "id": "lRp9WShMZT61"
      },
      "source": [
        "Note that all of this happens without ever actually creating the expanded arrays in memory! This broadcasting behavior is in practice enormously powerful, especially given that when NumPy broadcasts to create new dimensions or to 'stretch' existing ones, it doesn't actually duplicate the data.  In the example above the operation is carried out *as if* the scalar 1.5 was a 1D array with 1.5 in all of its entries, but no actual array is ever created.  This can save lots of memory in cases when the arrays in question are large. As such this can have significant performance implications."
      ]
    },
    {
      "cell_type": "markdown",
      "metadata": {
        "id": "STXLPws1ZT61"
      },
      "source": [
        "Pictorially:\n",
        "\n",
        "![Illustration of broadcasting](https://github.com/climate-analytics-lab/dsc200-fa25-public/blob/main/lectures/images/fig_broadcast_visual_1.png?raw=1)"
      ]
    },
    {
      "cell_type": "markdown",
      "metadata": {
        "id": "OFOR-lq3ZT61"
      },
      "source": [
        "([image source](http://www.astroml.org/book_figures/appendix/fig_broadcast_visual.html))"
      ]
    },
    {
      "cell_type": "markdown",
      "metadata": {
        "id": "AD5VaXQaZT61"
      },
      "source": [
        "### Broadcasting Examples"
      ]
    },
    {
      "cell_type": "markdown",
      "metadata": {
        "id": "nO90kNZxZT61"
      },
      "source": [
        "So when we do...\n",
        "\n",
        "    np.arange(3) + 5\n",
        "    \n",
        "The scalar 5 is:\n",
        "\n",
        "* first 'promoted' to a 1-dimensional array of length 1 (rule 1)\n",
        "* then, this array is 'stretched' to length 3 to match the first array. (rule 2)"
      ]
    },
    {
      "cell_type": "markdown",
      "metadata": {
        "id": "F1lh5eZgZT61"
      },
      "source": [
        "After these two operations are complete, the addition can proceed as now both operands are one-dimensional arrays of length 3."
      ]
    },
    {
      "cell_type": "markdown",
      "metadata": {
        "id": "j2x8cK2aZT61"
      },
      "source": [
        "When we do\n",
        "\n",
        "    np.ones((3, 3)) + np.arange(3)\n",
        "    \n",
        "The second array is:\n",
        "\n",
        "- first 'promoted' to a 2-dimensional array of shape (1, 3) (rule 1)\n",
        "- then axis 0 is 'stretched' to length 3 to match the first array (rule 2)"
      ]
    },
    {
      "cell_type": "markdown",
      "metadata": {
        "id": "3kMpW1vVZT61"
      },
      "source": [
        "When we do\n",
        "\n",
        "    np.arange(3).reshape((3, 1)) + np.arange(3)\n",
        "    \n",
        "The second array is:\n",
        "\n",
        "- first 'promoted' to a 2-dimensional array of shape (1, 3) (rule 1)\n",
        "- then axis 0 is 'stretched' to form an array of shape (3, 3) (rule 2)\n",
        "- and the first array's axis 1 is 'stretched' to form an array of shape (3, 3) (rule 2)\n",
        "\n",
        "Then the operation proceeds as if on two 3 $\\times$ 3 arrays."
      ]
    },
    {
      "cell_type": "markdown",
      "metadata": {
        "id": "eb0WLDQQZT61"
      },
      "source": [
        "The general rule is: when operating on two arrays, NumPy compares their shapes element-wise. It starts with the trailing dimensions, and works its way forward, creating dimensions of length 1 as needed. Two dimensions are considered compatible when\n",
        "\n",
        "* they are equal to begin with, or\n",
        "* one of them is 1; in this case NumPy will do the 'stretching' to make them equal.\n",
        "\n",
        "If these conditions are not met, a `ValueError: operands could not be broadcast together` exception is thrown, indicating that the arrays have incompatible shapes."
      ]
    },
    {
      "cell_type": "markdown",
      "metadata": {
        "id": "0wWcMsWUZT61"
      },
      "source": [
        "### Questions:\n",
        "\n",
        "What will the result of adding ``arr1`` with ``arr2`` be in the following cases?"
      ]
    },
    {
      "cell_type": "code",
      "execution_count": 48,
      "metadata": {
        "jupyter": {
          "outputs_hidden": true
        },
        "id": "D8FCjYvEZT61",
        "outputId": "c82dceb8-963f-46db-f1de-8d2cb5157ead",
        "colab": {
          "base_uri": "https://localhost:8080/"
        }
      },
      "outputs": [
        {
          "output_type": "execute_result",
          "data": {
            "text/plain": [
              "array([[2., 2., 2.],\n",
              "       [2., 2., 2.]])"
            ]
          },
          "metadata": {},
          "execution_count": 48
        }
      ],
      "source": [
        "arr1 = np.ones((2, 3))\n",
        "arr2 = np.ones((2, 1))\n",
        "\n",
        "arr1 + arr2"
      ]
    },
    {
      "cell_type": "code",
      "execution_count": 49,
      "metadata": {
        "jupyter": {
          "outputs_hidden": true
        },
        "id": "U5FGLwVQZT61",
        "outputId": "01724eae-8afb-4064-a474-8b8f4ca2324f",
        "colab": {
          "base_uri": "https://localhost:8080/"
        }
      },
      "outputs": [
        {
          "output_type": "execute_result",
          "data": {
            "text/plain": [
              "(2, 3)"
            ]
          },
          "metadata": {},
          "execution_count": 49
        }
      ],
      "source": [
        "arr1 = np.ones((2, 3))\n",
        "arr2 = np.ones(3)\n",
        "\n",
        "(arr1 + arr2).shape"
      ]
    },
    {
      "cell_type": "code",
      "execution_count": 50,
      "metadata": {
        "jupyter": {
          "outputs_hidden": true
        },
        "id": "EA9oDJAlZT61",
        "outputId": "947a6ad4-94ff-4482-a25e-7e9027d60670",
        "colab": {
          "base_uri": "https://localhost:8080/"
        }
      },
      "outputs": [
        {
          "output_type": "execute_result",
          "data": {
            "text/plain": [
              "array([[2., 2., 2.],\n",
              "       [2., 2., 2.]])"
            ]
          },
          "metadata": {},
          "execution_count": 50
        }
      ],
      "source": [
        "arr1 = np.ones((1, 3))\n",
        "arr2 = np.ones((2, 1))\n",
        "\n",
        "arr1 + arr2"
      ]
    },
    {
      "cell_type": "code",
      "execution_count": 51,
      "metadata": {
        "jupyter": {
          "outputs_hidden": true
        },
        "id": "fGu0FQq1ZT61"
      },
      "outputs": [],
      "source": [
        "arr1 = np.ones((1, 3))\n",
        "arr2 = np.ones((1, 2))\n",
        "\n",
        "# arr1 + arr2"
      ]
    },
    {
      "cell_type": "code",
      "execution_count": 52,
      "metadata": {
        "jupyter": {
          "outputs_hidden": true
        },
        "id": "Ruvuo_zkZT61",
        "outputId": "a1dd8c76-e36a-432b-b47d-3450cc7995dd",
        "colab": {
          "base_uri": "https://localhost:8080/"
        }
      },
      "outputs": [
        {
          "output_type": "execute_result",
          "data": {
            "text/plain": [
              "(1, 2, 3)"
            ]
          },
          "metadata": {},
          "execution_count": 52
        }
      ],
      "source": [
        "arr1 = np.ones((1, 3))\n",
        "arr3 = np.ones((1, 2))[:, :, np.newaxis]\n",
        "\n",
        "(arr1 + arr3).shape"
      ]
    }
  ],
  "metadata": {
    "anaconda-cloud": {},
    "celltoolbar": "Slideshow",
    "kernelspec": {
      "display_name": "Python 3 (ipykernel)",
      "language": "python",
      "name": "python3"
    },
    "language_info": {
      "codemirror_mode": {
        "name": "ipython",
        "version": 3
      },
      "file_extension": ".py",
      "mimetype": "text/x-python",
      "name": "python",
      "nbconvert_exporter": "python",
      "pygments_lexer": "ipython3",
      "version": "3.9.20"
    },
    "livereveal": {
      "start_slideshow_at": "selected"
    },
    "colab": {
      "provenance": []
    }
  },
  "nbformat": 4,
  "nbformat_minor": 0
}