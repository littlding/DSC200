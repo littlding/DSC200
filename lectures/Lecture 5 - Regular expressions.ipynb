{
  "cells": [
    {
      "cell_type": "markdown",
      "metadata": {
        "id": "bEqDmJapbbo9"
      },
      "source": [
        "# DSC200 - Lecture 5\n",
        "\n",
        "## Regular Expressions"
      ]
    },
    {
      "cell_type": "markdown",
      "metadata": {
        "id": "l1waN7Lubbo_"
      },
      "source": [
        "## Regular Expressions"
      ]
    },
    {
      "cell_type": "markdown",
      "metadata": {
        "id": "8bD0xthLbbo_"
      },
      "source": [
        "String manipulation is a common problem when preparing data for analysis."
      ]
    },
    {
      "cell_type": "markdown",
      "metadata": {
        "id": "7zGhDzIMbbo_"
      },
      "source": [
        "We previously came across the `\"\".index()` method, and there is also a `\"\".split()` method, among others. But what if we want to find more complex patterns?"
      ]
    },
    {
      "cell_type": "markdown",
      "metadata": {
        "id": "A9n_A2Hfbbo_"
      },
      "source": [
        "One example might be searching for phone numbers (e.g. 999-999-9999) in a text database. What other string patterns might we want to find?"
      ]
    },
    {
      "cell_type": "markdown",
      "metadata": {
        "id": "D0Q02auhbbo_"
      },
      "source": [
        "**class[buzz]: `lec5-1`**"
      ]
    },
    {
      "cell_type": "markdown",
      "metadata": {
        "id": "aMy4riH-bbo_"
      },
      "source": [
        "Regular expressions are text matching patterns described with a formal syntax. You'll often hear regular expressions referred to as 'regex' or 'regexp' in conversation."
      ]
    },
    {
      "cell_type": "markdown",
      "metadata": {
        "id": "D0b_2ZGnbbo_"
      },
      "source": [
        "Regular expressions can include a variety of rules, for finding repetition, to text-matching, and much more."
      ]
    },
    {
      "cell_type": "markdown",
      "metadata": {
        "id": "ixyXjjYibbo_"
      },
      "source": [
        "As you advance in Python you'll see that a lot of your parsing problems can be solved with regular expressions (they're also a common interview question!)."
      ]
    },
    {
      "cell_type": "markdown",
      "metadata": {
        "id": "eEGKaxFZbbpA"
      },
      "source": [
        "If you're familiar with Perl, you'll notice that the syntax for regular expressions are very similar in Python. We will be using the `re` module with Python for this lecture."
      ]
    },
    {
      "cell_type": "markdown",
      "metadata": {
        "id": "kLAHFyYGbbpA"
      },
      "source": [
        "## Searching for Patterns in Text\n",
        "\n",
        "One of the most common uses for the `re` module is for finding patterns in text.\n",
        "\n",
        "Let's do a quick example of using the `search` method in the `re` module to find some text:"
      ]
    },
    {
      "cell_type": "code",
      "execution_count": 1,
      "metadata": {
        "jupyter": {
          "outputs_hidden": false
        },
        "id": "S9Q87wjsbbpA",
        "outputId": "bf420624-a8c1-411b-839f-2f2f6ddb980a",
        "colab": {
          "base_uri": "https://localhost:8080/"
        }
      },
      "outputs": [
        {
          "output_type": "stream",
          "name": "stdout",
          "text": [
            "False\n"
          ]
        }
      ],
      "source": [
        "import re\n",
        "\n",
        "pattern = 'term2'\n",
        "\n",
        "text = 'This is a string with term1, but it does not have the other term.'\n",
        "\n",
        "print(re.search(pattern,  text) is not None)"
      ]
    },
    {
      "cell_type": "markdown",
      "metadata": {
        "id": "g_2abS26bbpA"
      },
      "source": [
        "So, we've seen that `re.search()` will take the pattern and if no pattern is found, a **None** is returned.\n",
        "\n",
        "But what if a pattern is found?"
      ]
    },
    {
      "cell_type": "code",
      "execution_count": 2,
      "metadata": {
        "jupyter": {
          "outputs_hidden": false
        },
        "id": "0RsbagGdbbpA",
        "outputId": "3e38da24-4ca3-4ad4-b8fa-e243adf3769c",
        "colab": {
          "base_uri": "https://localhost:8080/"
        }
      },
      "outputs": [
        {
          "output_type": "execute_result",
          "data": {
            "text/plain": [
              "<re.Match object; span=(22, 27), match='term1'>"
            ]
          },
          "metadata": {},
          "execution_count": 2
        }
      ],
      "source": [
        "pattern = 'term1'\n",
        "\n",
        "text = 'This is a string with term1, but it does not have the other term.'\n",
        "\n",
        "match = re.search(pattern,  text)\n",
        "match"
      ]
    },
    {
      "cell_type": "markdown",
      "metadata": {
        "id": "athoFxBjbbpB"
      },
      "source": [
        "This **Match** object returned by the `search()` method is more than just a **Boolean** or **None**, it contains information about the match, including the original input string, the regular expression that was used, and the location of the match.\n",
        "\n",
        "Let's see the methods we can use on the match object:"
      ]
    },
    {
      "cell_type": "code",
      "execution_count": 3,
      "metadata": {
        "jupyter": {
          "outputs_hidden": false
        },
        "id": "lPzAQrR3bbpB",
        "outputId": "526468f0-85e8-439a-f442-de3bba627e08",
        "colab": {
          "base_uri": "https://localhost:8080/"
        }
      },
      "outputs": [
        {
          "output_type": "execute_result",
          "data": {
            "text/plain": [
              "22"
            ]
          },
          "metadata": {},
          "execution_count": 3
        }
      ],
      "source": [
        "# Index of start of match\n",
        "match.start()"
      ]
    },
    {
      "cell_type": "code",
      "execution_count": 4,
      "metadata": {
        "jupyter": {
          "outputs_hidden": false
        },
        "id": "R7MeEXwQbbpB",
        "outputId": "38c4cce8-fc68-4b61-bae5-75034f406dc7",
        "colab": {
          "base_uri": "https://localhost:8080/"
        }
      },
      "outputs": [
        {
          "output_type": "execute_result",
          "data": {
            "text/plain": [
              "27"
            ]
          },
          "metadata": {},
          "execution_count": 4
        }
      ],
      "source": [
        "# Index of the end\n",
        "match.end()"
      ]
    },
    {
      "cell_type": "markdown",
      "metadata": {
        "id": "P1v8mvP9bbpB"
      },
      "source": [
        "## Split with regular expressions\n",
        "\n",
        "Let's see how we can split with the `re` syntax. This should look similar to how you used the `split()` method with strings."
      ]
    },
    {
      "cell_type": "code",
      "execution_count": 5,
      "metadata": {
        "jupyter": {
          "outputs_hidden": false
        },
        "id": "Q5HCEgiRbbpB",
        "outputId": "65900abb-93e3-4c16-9a38-e6b8682f3b3d",
        "colab": {
          "base_uri": "https://localhost:8080/"
        }
      },
      "outputs": [
        {
          "output_type": "execute_result",
          "data": {
            "text/plain": [
              "['What is the domain name of someone with the email: hello', 'gmail.com']"
            ]
          },
          "metadata": {},
          "execution_count": 5
        }
      ],
      "source": [
        "# Term to split on\n",
        "split_term = '@'\n",
        "\n",
        "phrase = 'What is the domain name of someone with the email: hello@gmail.com'\n",
        "\n",
        "# Split the phrase\n",
        "re.split(split_term, phrase)"
      ]
    },
    {
      "cell_type": "markdown",
      "metadata": {
        "id": "WypMZ-L9bbpB"
      },
      "source": [
        "Note how `re.split()` returns a list with the term to spit on removed and the terms in the list are a split up version of the string.\n",
        "\n",
        "Create a couple of more examples for yourself to make sure you understand!"
      ]
    },
    {
      "cell_type": "markdown",
      "metadata": {
        "id": "Mxr-2IQGbbpB"
      },
      "source": [
        "## Finding all instances of a pattern\n",
        "\n",
        "You can use `re.findall()` to find all the instances of a pattern in a string. For example:"
      ]
    },
    {
      "cell_type": "code",
      "execution_count": 6,
      "metadata": {
        "jupyter": {
          "outputs_hidden": false
        },
        "id": "aOhNPV2VbbpB",
        "outputId": "d0c7f05f-7e7e-4a14-f16a-94f7555b017e",
        "colab": {
          "base_uri": "https://localhost:8080/"
        }
      },
      "outputs": [
        {
          "output_type": "execute_result",
          "data": {
            "text/plain": [
              "['match']"
            ]
          },
          "metadata": {},
          "execution_count": 6
        }
      ],
      "source": [
        "# Returns a list of all matches\n",
        "re.findall('match','test phrase match is in middle')"
      ]
    },
    {
      "cell_type": "markdown",
      "metadata": {
        "id": "pSwKV7qdbbpB"
      },
      "source": [
        "## Pattern re Syntax"
      ]
    },
    {
      "cell_type": "markdown",
      "metadata": {
        "id": "9dofwlPAbbpB"
      },
      "source": [
        "This will be the bulk of this lecture on using `re` with Python. Regular expressions support a huge variety of patterns, not just simply finding where a single string occurred."
      ]
    },
    {
      "cell_type": "markdown",
      "metadata": {
        "id": "BNwCjdD7bbpC"
      },
      "source": [
        "We can use *metacharacters* along with `re` to find specific types of patterns."
      ]
    },
    {
      "cell_type": "markdown",
      "metadata": {
        "id": "C_XuAYJPbbpC"
      },
      "source": [
        "### Repetition Syntax\n",
        "\n",
        "There are five ways to express repetition in a pattern:\n",
        "\n",
        "    1.) A pattern followed by the meta-character * is repeated zero or more times.\n",
        "    2.) Replace the * with + and the pattern must appear at least once.\n",
        "    3.) Using ? means the pattern appears zero or one time.\n",
        "    4.) For a specific number of occurrences, use {m} after the pattern, where m is replaced with the number of times the pattern should repeat.\n",
        "    5.) Use {m,n} where m is the minimum number of repetitions and n is the maximum. Leaving out n ({m,}) means the value appears at least m times, with no maximum.\n",
        ""
      ]
    },
    {
      "cell_type": "markdown",
      "metadata": {
        "id": "x9ZCmjsSbbpC"
      },
      "source": [
        "Now lets see an example of each of these:"
      ]
    },
    {
      "cell_type": "code",
      "execution_count": 7,
      "metadata": {
        "jupyter": {
          "outputs_hidden": false
        },
        "id": "FFZpt8cubbpC",
        "outputId": "457e2f4d-1cba-4c38-d9e9-52f000597592",
        "colab": {
          "base_uri": "https://localhost:8080/"
        }
      },
      "outputs": [
        {
          "output_type": "stream",
          "name": "stdout",
          "text": [
            "['sd', 'sd', 's', 's', 'sddd', 'sddd', 'sddd', 'sd', 's', 's', 's', 's', 's', 's', 'sdddd']\n"
          ]
        }
      ],
      "source": [
        "test_phrase = 'sdsd..sssddd...sdddsddd...dsds...dsssss...sdddd'\n",
        "\n",
        "print(re.findall('sd*', # s followed by zero or more d's\n",
        "                 test_phrase))"
      ]
    },
    {
      "cell_type": "code",
      "execution_count": 8,
      "metadata": {
        "id": "thSCW9vZbbpC",
        "outputId": "ea6ac525-4c0d-40d5-94a4-1db72d2232a0",
        "colab": {
          "base_uri": "https://localhost:8080/"
        }
      },
      "outputs": [
        {
          "output_type": "stream",
          "name": "stdout",
          "text": [
            "['sd', 'sd', 'sddd', 'sddd', 'sddd', 'sd', 'sdddd']\n"
          ]
        }
      ],
      "source": [
        "test_phrase = 'sdsd..sssddd...sdddsddd...dsds...dsssss...sdddd'\n",
        "\n",
        "print(re.findall('sd+', # s followed by one or more d's\n",
        "                 test_phrase))"
      ]
    },
    {
      "cell_type": "markdown",
      "metadata": {
        "id": "jqE0rZzhbbpC"
      },
      "source": [
        "How many matches will this find?\n",
        "\n",
        "<table border=\"1\" class=\"docutils\">\n",
        "<colgroup>\n",
        "<col width=\"14%\" />\n",
        "<col width=\"86%\" />\n",
        "</colgroup>\n",
        "<thead valign=\"bottom\">\n",
        "<tr class=\"row-odd\"><th class=\"head\"></th>\n",
        "<th class=\"head\">Number of matches</th>\n",
        "</tr>\n",
        "</thead>\n",
        "<tbody valign=\"top\">\n",
        "<tr class=\"row-even\"><td><tt class=\"docutils literal\"><span class=\"pre\">A</span></tt></td>\n",
        "<td>0</td>\n",
        "</tr>\n",
        "<tr class=\"row-odd\"><td><tt class=\"docutils literal\"><span class=\"pre\">B</span></tt></td>\n",
        "<td>5</td>\n",
        "</tr>\n",
        "<tr class=\"row-even\"><td><tt class=\"docutils literal\"><span class=\"pre\">C</span></tt></td>\n",
        "<td>7</td>\n",
        "</tr>\n",
        "<tr class=\"row-even\"><td><tt class=\"docutils literal\"><span class=\"pre\">E</span></tt></td>\n",
        "<td>I don't know</td>\n",
        "</tr>\n",
        "</tbody>\n",
        "</table>\n",
        "\n"
      ]
    },
    {
      "cell_type": "markdown",
      "metadata": {
        "id": "_2t9QXoabbpC"
      },
      "source": [
        "**class[buzz]: `lec5-2`**"
      ]
    },
    {
      "cell_type": "code",
      "execution_count": 9,
      "metadata": {
        "id": "oqdn0Qe1bbpC",
        "outputId": "55aa74c0-9e1a-4cee-f0b1-9d5e0ac448c2",
        "colab": {
          "base_uri": "https://localhost:8080/"
        }
      },
      "outputs": [
        {
          "output_type": "stream",
          "name": "stdout",
          "text": [
            "['sd', 'sd', 's', 's', 'sd', 'sd', 'sd', 'sd', 's', 's', 's', 's', 's', 's', 'sd']\n"
          ]
        }
      ],
      "source": [
        "test_phrase = 'sdsd..sssddd...sdddsddd...dsds...dsssss...sdddd'\n",
        "\n",
        "print(re.findall('sd?',          # s followed by zero or one d's\n",
        "                 test_phrase))"
      ]
    },
    {
      "cell_type": "code",
      "execution_count": 10,
      "metadata": {
        "id": "gL50leYjbbpC",
        "outputId": "39a7524e-1e21-4272-c203-68918c75b38e",
        "colab": {
          "base_uri": "https://localhost:8080/"
        }
      },
      "outputs": [
        {
          "output_type": "stream",
          "name": "stdout",
          "text": [
            "['sddd', 'sddd', 'sddd', 'sddd']\n"
          ]
        }
      ],
      "source": [
        "test_phrase = 'sdsd..sssddd...sdddsddd...dsds...dsssss...sdddd'\n",
        "\n",
        "print(re.findall('sd{3}',        # s followed by three d's\n",
        "                 test_phrase))"
      ]
    },
    {
      "cell_type": "code",
      "execution_count": 11,
      "metadata": {
        "id": "PKubhgEKbbpC",
        "outputId": "d5ee8dc6-2559-48d2-d5f3-b2fc2220113d",
        "colab": {
          "base_uri": "https://localhost:8080/"
        }
      },
      "outputs": [
        {
          "output_type": "stream",
          "name": "stdout",
          "text": [
            "['d+']\n"
          ]
        },
        {
          "output_type": "stream",
          "name": "stderr",
          "text": [
            "<>:3: SyntaxWarning: invalid escape sequence '\\+'\n",
            "<>:3: SyntaxWarning: invalid escape sequence '\\+'\n",
            "/tmp/ipython-input-4143889730.py:3: SyntaxWarning: invalid escape sequence '\\+'\n",
            "  print(re.findall('d\\+',      # s followed by two to three d's\n"
          ]
        }
      ],
      "source": [
        "test_phrase = 'sdsd..sssddd...sdddsddd...dsds...dsssss...sdddd+'\n",
        "\n",
        "print(re.findall('d\\+',      # s followed by two to three d's\n",
        "                 test_phrase))"
      ]
    },
    {
      "cell_type": "markdown",
      "metadata": {
        "id": "eTnR-RqubbpC"
      },
      "source": [
        "## Character Sets"
      ]
    },
    {
      "cell_type": "markdown",
      "metadata": {
        "id": "aSPfAultbbpD"
      },
      "source": [
        "Character sets are used when you wish to match any one of a group of characters at a point in the input."
      ]
    },
    {
      "cell_type": "markdown",
      "metadata": {
        "id": "CTVHwjhxbbpD"
      },
      "source": [
        "Brackets are used to construct character set inputs. For example: the input `[ab]` searches for occurrences of either a or b."
      ]
    },
    {
      "cell_type": "markdown",
      "metadata": {
        "id": "HFPslNCrbbpD"
      },
      "source": [
        "Let's see some examples."
      ]
    },
    {
      "cell_type": "code",
      "execution_count": 12,
      "metadata": {
        "jupyter": {
          "outputs_hidden": false
        },
        "id": "5OZIaV0GbbpD",
        "outputId": "c5af5270-1fe5-4a93-e5a6-17b5938c3c05",
        "colab": {
          "base_uri": "https://localhost:8080/"
        }
      },
      "outputs": [
        {
          "output_type": "stream",
          "name": "stdout",
          "text": [
            "['s', 'd', 's', 'd', 's', 's', 's', 'd', 'd', 'd', 's', 'd', 'd', 'd', 's', 'd', 'd', 'd', 'd', 's', 'd', 's', 'd', 's', 's', 's', 's', 's', 's', 'd', 'd', 'd', 'd']\n"
          ]
        }
      ],
      "source": [
        "test_phrase = 'sdsd..sssddd...sdddsddd...dsds...dsssss...sdddd'\n",
        "\n",
        "print(re.findall('[sd]',        # either s or d\n",
        "                 test_phrase))"
      ]
    },
    {
      "cell_type": "code",
      "execution_count": 13,
      "metadata": {
        "id": "lxdj_QhkbbpD",
        "outputId": "52de99de-a4fd-4a18-80aa-3dac870ba096",
        "colab": {
          "base_uri": "https://localhost:8080/"
        }
      },
      "outputs": [
        {
          "output_type": "stream",
          "name": "stdout",
          "text": [
            "['sdsd', 'sssddd', 'sdddsddd', 'sds', 'sssss', 'sdddd']\n"
          ]
        }
      ],
      "source": [
        "test_phrase = 'sdsd..sssddd...sdddsddd...dsds...dsssss...sdddd'\n",
        "\n",
        "print(re.findall('s[sd]+',        # s followed by one or more s or d\n",
        "                 test_phrase))"
      ]
    },
    {
      "cell_type": "markdown",
      "metadata": {
        "id": "6KKyMvBjbbpD"
      },
      "source": [
        "## Exclusion\n",
        "\n",
        "We can use `^` to exclude terms by incorporating it into the bracket syntax notation.\n",
        "\n",
        "For example: `[^...]` will match any single character not in the brackets.\n",
        "\n",
        "Let's see some more examples:"
      ]
    },
    {
      "cell_type": "code",
      "execution_count": 14,
      "metadata": {
        "jupyter": {
          "outputs_hidden": true
        },
        "id": "BRPsn6p2bbpD"
      },
      "outputs": [],
      "source": [
        "test_phrase = 'This is a string! But it has punctuation. How can we remove it?'"
      ]
    },
    {
      "cell_type": "markdown",
      "metadata": {
        "id": "Mcy9jL43bbpD"
      },
      "source": [
        "Use `[^!.? ]` to check for matches that are not a `!,.,?,` or space.\n",
        "\n",
        "Add the `+` to check that the match appears at least once, this basically translate into finding the words."
      ]
    },
    {
      "cell_type": "code",
      "execution_count": 15,
      "metadata": {
        "jupyter": {
          "outputs_hidden": false
        },
        "id": "G-H4C7pPbbpD",
        "outputId": "ee27a79b-f1f1-46e1-a3ba-ed84cb701644",
        "colab": {
          "base_uri": "https://localhost:8080/"
        }
      },
      "outputs": [
        {
          "output_type": "execute_result",
          "data": {
            "text/plain": [
              "['This',\n",
              " 'is',\n",
              " 'a',\n",
              " 'string',\n",
              " 'But',\n",
              " 'it',\n",
              " 'has',\n",
              " 'punctuation',\n",
              " 'How',\n",
              " 'can',\n",
              " 'we',\n",
              " 'remove',\n",
              " 'it']"
            ]
          },
          "metadata": {},
          "execution_count": 15
        }
      ],
      "source": [
        "re.findall('[^!.? ]+',test_phrase)"
      ]
    },
    {
      "cell_type": "markdown",
      "metadata": {
        "id": "llOIPcKkbbpD"
      },
      "source": [
        "## Character Ranges"
      ]
    },
    {
      "cell_type": "markdown",
      "metadata": {
        "id": "KeEwjSA_bbpE"
      },
      "source": [
        "As character sets grow larger, typing every character that should (or should not) match could become very tedious.\n",
        "\n",
        "A more compact format using character ranges lets you define a character set to include all of the contiguous characters between a start and stop point. The format used is `[start-end]`."
      ]
    },
    {
      "cell_type": "markdown",
      "metadata": {
        "id": "ksw2va0LbbpE"
      },
      "source": [
        "Common use cases are to search for a specific range of letters in the alphabet, such `[a-f]` would return matches with any instance of letters between a and f."
      ]
    },
    {
      "cell_type": "code",
      "execution_count": 16,
      "metadata": {
        "id": "hb0i7FcobbpE",
        "outputId": "4bcf2674-c23f-416c-c606-41aac32a7100",
        "colab": {
          "base_uri": "https://localhost:8080/"
        }
      },
      "outputs": [
        {
          "output_type": "stream",
          "name": "stdout",
          "text": [
            "['his', 'is', 'an', 'example', 'sentence', 'ets', 'see', 'if', 'we', 'can', 'find', 'some', 'letters']\n"
          ]
        }
      ],
      "source": [
        "test_phrase = 'This is an example sentence. Lets see if we can find some letters.'\n",
        "\n",
        "print(re.findall('[a-z]+',      # sequences of lower case letters\n",
        "                 test_phrase))"
      ]
    },
    {
      "cell_type": "code",
      "execution_count": 17,
      "metadata": {
        "id": "pm36Z6AHbbpE",
        "outputId": "7a177ddd-a4c6-4653-f815-2ee721cc5095",
        "colab": {
          "base_uri": "https://localhost:8080/"
        }
      },
      "outputs": [
        {
          "output_type": "stream",
          "name": "stdout",
          "text": [
            "['T', 'L']\n"
          ]
        }
      ],
      "source": [
        "test_phrase = 'This is an example sentence. Lets see if we can find some letters.'\n",
        "\n",
        "print(re.findall('[A-Z]+',      # sequences of upper case letters\n",
        "                 test_phrase))"
      ]
    },
    {
      "cell_type": "code",
      "execution_count": 18,
      "metadata": {
        "id": "SIVBGJ4FbbpE",
        "outputId": "5c9fa96f-8fc8-44ef-c354-14791f1853b1",
        "colab": {
          "base_uri": "https://localhost:8080/"
        }
      },
      "outputs": [
        {
          "output_type": "stream",
          "name": "stdout",
          "text": [
            "['This', 'is', 'an', 'example', 'sentence', 'Lets', 'see', 'if', 'we', 'can', 'find', 'some', 'letters']\n"
          ]
        }
      ],
      "source": [
        "test_phrase = 'This is an example sentence. Lets see if we can find some letters.'\n",
        "\n",
        "print(re.findall('[a-zA-Z]+',   # sequences of lower or upper case letters\n",
        "                 test_phrase))"
      ]
    },
    {
      "cell_type": "code",
      "execution_count": 19,
      "metadata": {
        "id": "lYuT2HqjbbpE",
        "outputId": "aa2b421f-39c2-47f3-b38a-c4e96c2d28e3",
        "colab": {
          "base_uri": "https://localhost:8080/"
        }
      },
      "outputs": [
        {
          "output_type": "stream",
          "name": "stdout",
          "text": [
            "['This', 'Lets']\n"
          ]
        }
      ],
      "source": [
        "test_phrase = 'This is an example sentence. Lets see if we can find some letters.'\n",
        "\n",
        "print(re.findall('[A-Z][a-z]+',  # one upper case letter followed by lower case letters\n",
        "                 test_phrase))"
      ]
    },
    {
      "cell_type": "markdown",
      "metadata": {
        "id": "iuF5AOY-bbpE"
      },
      "source": [
        "## Escape Codes\n",
        "\n",
        "You can use special escape codes to find specific types of patterns in your data, such as digits, non-digits,whitespace, and more. For example:\n",
        "\n",
        "<table border=\"1\" class=\"docutils\">\n",
        "<colgroup>\n",
        "<col width=\"14%\" />\n",
        "<col width=\"86%\" />\n",
        "</colgroup>\n",
        "<thead valign=\"bottom\">\n",
        "<tr class=\"row-odd\"><th class=\"head\">Code</th>\n",
        "<th class=\"head\">Meaning</th>\n",
        "</tr>\n",
        "</thead>\n",
        "<tbody valign=\"top\">\n",
        "<tr class=\"row-even\"><td><tt class=\"docutils literal\"><span class=\"pre\">\\d</span></tt></td>\n",
        "<td>a digit</td>\n",
        "</tr>\n",
        "<tr class=\"row-odd\"><td><tt class=\"docutils literal\"><span class=\"pre\">\\D</span></tt></td>\n",
        "<td>a non-digit</td>\n",
        "</tr>\n",
        "<tr class=\"row-even\"><td><tt class=\"docutils literal\"><span class=\"pre\">\\s</span></tt></td>\n",
        "<td>whitespace (tab, space, newline, etc.)</td>\n",
        "</tr>\n",
        "<tr class=\"row-odd\"><td><tt class=\"docutils literal\"><span class=\"pre\">\\S</span></tt></td>\n",
        "<td>non-whitespace</td>\n",
        "</tr>\n",
        "<tr class=\"row-even\"><td><tt class=\"docutils literal\"><span class=\"pre\">\\w</span></tt></td>\n",
        "<td>alphanumeric</td>\n",
        "</tr>\n",
        "<tr class=\"row-odd\"><td><tt class=\"docutils literal\"><span class=\"pre\">\\W</span></tt></td>\n",
        "<td>non-alphanumeric</td>\n",
        "</tr>\n",
        "</tbody>\n",
        "</table>"
      ]
    },
    {
      "cell_type": "markdown",
      "metadata": {
        "id": "s7bcUqrEbbpE"
      },
      "source": [
        "Escapes are indicated by prefixing the character with a backslash (`\\`). Unfortunately, a backslash must itself be escaped in normal Python strings, and that results in expressions that are difficult to read."
      ]
    },
    {
      "cell_type": "markdown",
      "metadata": {
        "id": "-49X8_OybbpE"
      },
      "source": [
        "Using raw strings, created by prefixing the literal value with r, for creating regular expressions eliminates this problem and maintains readability."
      ]
    },
    {
      "cell_type": "markdown",
      "metadata": {
        "id": "3ty9F1xAbbpE"
      },
      "source": [
        "These symbols however, and especially the escaping, can be quite off-putting if you're not familiar with regex.\n",
        "\n",
        "Hopefully after seeing these examples this syntax will become clear."
      ]
    },
    {
      "cell_type": "code",
      "execution_count": 20,
      "metadata": {
        "id": "o2oRZvfFbbpE",
        "outputId": "b1b59b0b-2cfd-4fc4-897f-79e80a9ed4ef",
        "colab": {
          "base_uri": "https://localhost:8080/"
        }
      },
      "outputs": [
        {
          "output_type": "stream",
          "name": "stdout",
          "text": [
            "['1233']\n"
          ]
        }
      ],
      "source": [
        "test_phrase = 'This is a string with some numbers 1233 and a symbol #hashtag'\n",
        "\n",
        "print(re.findall(r'\\d+', # sequence of digits\n",
        "                 test_phrase))"
      ]
    },
    {
      "cell_type": "code",
      "execution_count": 21,
      "metadata": {
        "id": "HEP6MsV9bbpE",
        "outputId": "05e8c319-461c-4223-fec9-2b4d45c64da4",
        "colab": {
          "base_uri": "https://localhost:8080/"
        }
      },
      "outputs": [
        {
          "output_type": "stream",
          "name": "stdout",
          "text": [
            "['This', 'is', 'a', 'string', 'with', 'some', 'numbers', '1233', 'and', 'a', 'symbol', 'hashtag']\n"
          ]
        }
      ],
      "source": [
        "test_phrase = 'This is a string with some numbers 1233 and a symbol #hashtag'\n",
        "\n",
        "print(re.findall(r'\\w+', # alphanumeric characters\n",
        "                 test_phrase))"
      ]
    },
    {
      "cell_type": "markdown",
      "metadata": {
        "id": "_a_t3GV_bbpE"
      },
      "source": [
        "## Conclusion\n",
        "\n",
        "You should now have a solid understanding of how to use the regular expression module in Python. There are a ton of more special character instances, but it would be unreasonable to go through every single use case."
      ]
    },
    {
      "cell_type": "markdown",
      "metadata": {
        "id": "Il_tUveabbpE"
      },
      "source": [
        "Instead take a look at the full [documentation](https://docs.python.org/3/library/re.html) if you ever need to look up a particular case. ChatGPT is also pretty good at this...!"
      ]
    },
    {
      "cell_type": "markdown",
      "metadata": {
        "id": "6pB533gAbbpE"
      },
      "source": [
        "On Friday, numpy."
      ]
    },
    {
      "cell_type": "markdown",
      "metadata": {
        "id": "ufos4LMIbbpE"
      },
      "source": [
        "# Backup slides"
      ]
    },
    {
      "cell_type": "markdown",
      "metadata": {
        "id": "lqaZuy3_bbpE"
      },
      "source": [
        "## You can also indicate the start/end of a line\n",
        "\n",
        "Two ‘positional’ matches:\n",
        " - $ : matches the end of a string or right before a newline\n",
        " - ^ : matches the start of a string or right after a newline"
      ]
    },
    {
      "cell_type": "code",
      "execution_count": 22,
      "metadata": {
        "id": "L6m-rVqtbbpE",
        "outputId": "f0e15f33-4452-4a29-fdef-1841638e4918",
        "colab": {
          "base_uri": "https://localhost:8080/"
        }
      },
      "outputs": [
        {
          "output_type": "stream",
          "name": "stdout",
          "text": [
            "['hashtag']\n"
          ]
        }
      ],
      "source": [
        "test_phrase = 'This is a string with some numbers 1233 and a symbol #hashtag'\n",
        "\n",
        "print(re.findall(r'\\w+$', # alphanumeric characters\n",
        "                 test_phrase))"
      ]
    }
  ],
  "metadata": {
    "celltoolbar": "Slideshow",
    "kernelspec": {
      "display_name": "Python 3 (ipykernel)",
      "language": "python",
      "name": "python3"
    },
    "language_info": {
      "codemirror_mode": {
        "name": "ipython",
        "version": 3
      },
      "file_extension": ".py",
      "mimetype": "text/x-python",
      "name": "python",
      "nbconvert_exporter": "python",
      "pygments_lexer": "ipython3",
      "version": "3.9.20"
    },
    "colab": {
      "provenance": []
    }
  },
  "nbformat": 4,
  "nbformat_minor": 0
}